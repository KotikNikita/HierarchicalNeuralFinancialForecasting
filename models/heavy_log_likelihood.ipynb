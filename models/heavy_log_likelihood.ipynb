{
 "cells": [
  {
   "cell_type": "code",
   "execution_count": 12,
   "id": "df7b2e8c",
   "metadata": {},
   "outputs": [],
   "source": [
    "import pandas as pd\n",
    "import numpy as np\n",
    "import datetime\n",
    "from scipy.optimize import minimize"
   ]
  },
  {
   "cell_type": "code",
   "execution_count": 41,
   "id": "966c4d60",
   "metadata": {},
   "outputs": [
    {
     "data": {
      "text/html": [
       "<div>\n",
       "<style scoped>\n",
       "    .dataframe tbody tr th:only-of-type {\n",
       "        vertical-align: middle;\n",
       "    }\n",
       "\n",
       "    .dataframe tbody tr th {\n",
       "        vertical-align: top;\n",
       "    }\n",
       "\n",
       "    .dataframe thead th {\n",
       "        text-align: right;\n",
       "    }\n",
       "</style>\n",
       "<table border=\"1\" class=\"dataframe\">\n",
       "  <thead>\n",
       "    <tr style=\"text-align: right;\">\n",
       "      <th></th>\n",
       "      <th>time</th>\n",
       "      <th>close</th>\n",
       "      <th>time.1</th>\n",
       "      <th>RM</th>\n",
       "      <th>r</th>\n",
       "      <th>rv</th>\n",
       "    </tr>\n",
       "  </thead>\n",
       "  <tbody>\n",
       "    <tr>\n",
       "      <th>0</th>\n",
       "      <td>2019-09-30 10:00:00</td>\n",
       "      <td>52.013527</td>\n",
       "      <td>2019-09-30 10:00:00</td>\n",
       "      <td>NaN</td>\n",
       "      <td>NaN</td>\n",
       "      <td>NaN</td>\n",
       "    </tr>\n",
       "    <tr>\n",
       "      <th>1</th>\n",
       "      <td>2019-09-30 10:30:00</td>\n",
       "      <td>52.018470</td>\n",
       "      <td>2019-09-30 10:30:00</td>\n",
       "      <td>0.021285</td>\n",
       "      <td>0.004944</td>\n",
       "      <td>0.000024</td>\n",
       "    </tr>\n",
       "    <tr>\n",
       "      <th>2</th>\n",
       "      <td>2019-09-30 11:00:00</td>\n",
       "      <td>52.062964</td>\n",
       "      <td>2019-09-30 11:00:00</td>\n",
       "      <td>0.006196</td>\n",
       "      <td>0.044494</td>\n",
       "      <td>0.001980</td>\n",
       "    </tr>\n",
       "    <tr>\n",
       "      <th>3</th>\n",
       "      <td>2019-09-30 11:30:00</td>\n",
       "      <td>52.171728</td>\n",
       "      <td>2019-09-30 11:30:00</td>\n",
       "      <td>0.014816</td>\n",
       "      <td>0.108763</td>\n",
       "      <td>0.011829</td>\n",
       "    </tr>\n",
       "    <tr>\n",
       "      <th>4</th>\n",
       "      <td>2019-09-30 12:00:00</td>\n",
       "      <td>52.255772</td>\n",
       "      <td>2019-09-30 12:00:00</td>\n",
       "      <td>0.020385</td>\n",
       "      <td>0.084044</td>\n",
       "      <td>0.007063</td>\n",
       "    </tr>\n",
       "  </tbody>\n",
       "</table>\n",
       "</div>"
      ],
      "text/plain": [
       "                 time      close               time.1        RM         r  \\\n",
       "0 2019-09-30 10:00:00  52.013527  2019-09-30 10:00:00       NaN       NaN   \n",
       "1 2019-09-30 10:30:00  52.018470  2019-09-30 10:30:00  0.021285  0.004944   \n",
       "2 2019-09-30 11:00:00  52.062964  2019-09-30 11:00:00  0.006196  0.044494   \n",
       "3 2019-09-30 11:30:00  52.171728  2019-09-30 11:30:00  0.014816  0.108763   \n",
       "4 2019-09-30 12:00:00  52.255772  2019-09-30 12:00:00  0.020385  0.084044   \n",
       "\n",
       "         rv  \n",
       "0       NaN  \n",
       "1  0.000024  \n",
       "2  0.001980  \n",
       "3  0.011829  \n",
       "4  0.007063  "
      ]
     },
     "execution_count": 41,
     "metadata": {},
     "output_type": "execute_result"
    }
   ],
   "source": [
    "data = pd.read_csv('second_df_with_RM_30_5_H2.csv', parse_dates=[\"time\"])\n",
    "data.head()"
   ]
  },
  {
   "cell_type": "code",
   "execution_count": 21,
   "id": "e3416dda",
   "metadata": {},
   "outputs": [],
   "source": [
    "start = datetime.datetime(2019,9, 30).date()\n",
    "end = datetime.datetime(2019,9, 30).date()\n",
    "# end = datetime.datetime(2019,11, 30).date()\n",
    "df = data[(data['time'].dt.date >= start) & (data['time'].dt.date <= end)]\n",
    "rv = df['rv'].fillna(0)\n",
    "RM = df['RM'].fillna(0)"
   ]
  },
  {
   "cell_type": "code",
   "execution_count": 38,
   "id": "2280800e",
   "metadata": {},
   "outputs": [],
   "source": [
    "class HEAVY():\n",
    "    def __init__(self, alpha=0.5, beta=0.3, alphaR=0.5, betaR=0.3):\n",
    "        self.alpha = alpha\n",
    "        self.alphaR = alphaR\n",
    "        self.beta = beta\n",
    "        self.betaR = betaR\n",
    "        \n",
    "    def log_Q1(self, alpha, beta, rv, RM):\n",
    "        T = len(rv)\n",
    "        h = T**0.5 * np.sum(rv[:int(T**0.5)])\n",
    "        ll = 0\n",
    "\n",
    "        for i in range(1, T):\n",
    "            h = self.mu*(1 - alpha*self.k - beta) + alpha*RM[i-1] + beta*h\n",
    "            ll += 0.5*(np.log(h+1e-9) + rv[i]/h)\n",
    "        return ll\n",
    "\n",
    "    def log_Q2(self, alphaR, betaR, rv, RM):\n",
    "        T = len(rv)\n",
    "        mu_t = T**0.5 * np.sum(RM[:int(T**0.5)])\n",
    "        ll = 0\n",
    "\n",
    "        for i in range(1, T):\n",
    "            mu_t = self.muR*(1 - alphaR - betaR) + alphaR*RM[i-1] + betaR*mu_t\n",
    "            ll += 0.5*(np.log(mu_t+1e-8) + RM[i]/mu_t)\n",
    "\n",
    "        return ll\n",
    "\n",
    "    def fit(self, rv, RM):\n",
    "        self.mu = rv.mean()\n",
    "        self.muR = RM.mean()\n",
    "        self.k = self.mu / self.muR\n",
    "        \n",
    "        fun1 = lambda params: self.log_Q1(params[0], params[1], rv, RM)\n",
    "        cons1 = (\n",
    "            {'type': 'ineq', 'fun': lambda x:  x[0]}, \n",
    "            {'type': 'ineq', 'fun': lambda x:  x[1]},\n",
    "            {'type': 'ineq', 'fun': lambda x:  1 - x[1]}\n",
    "        )\n",
    "        self.alpha, self.beta = minimize(fun1, (self.alpha, self.beta), method='SLSQP', tol=1e-6, constraints=cons1).x\n",
    "        \n",
    "        fun2 = lambda params: self.log_Q2(params[0], params[1], rv, RM)\n",
    "        cons2 = (\n",
    "            {'type': 'ineq', 'fun': lambda x:  -x[0] - x[1] + 1}, \n",
    "            {'type': 'ineq', 'fun': lambda x:  x[0]}, \n",
    "            {'type': 'ineq', 'fun': lambda x:  x[1]}\n",
    "        )\n",
    "        self.alphaR, self.betaR = minimize(fun2, (self.alphaR, self.betaR), method='SLSQP', tol=1e-6, constraints=cons2).x\n",
    "        "
   ]
  },
  {
   "cell_type": "code",
   "execution_count": 39,
   "id": "75e26960",
   "metadata": {},
   "outputs": [
    {
     "name": "stdout",
     "output_type": "stream",
     "text": [
      "1.3315233349996902 0.10856719942928156 0.6723906336469317 0.1965071719417836\n"
     ]
    },
    {
     "name": "stderr",
     "output_type": "stream",
     "text": [
      "<ipython-input-38-80022d6f6a31>:15: RuntimeWarning: invalid value encountered in log\n",
      "  ll += 0.5*(np.log(h+1e-9) + rv[i]/h)\n"
     ]
    }
   ],
   "source": [
    "model = HEAVY()\n",
    "model.fit(rv, RM)\n",
    "print(model.alpha, model.beta, model.alphaR, model.betaR)"
   ]
  },
  {
   "cell_type": "code",
   "execution_count": null,
   "id": "58b79212",
   "metadata": {},
   "outputs": [],
   "source": []
  }
 ],
 "metadata": {
  "kernelspec": {
   "display_name": "Python 3",
   "language": "python",
   "name": "python3"
  },
  "language_info": {
   "codemirror_mode": {
    "name": "ipython",
    "version": 3
   },
   "file_extension": ".py",
   "mimetype": "text/x-python",
   "name": "python",
   "nbconvert_exporter": "python",
   "pygments_lexer": "ipython3",
   "version": "3.8.8"
  }
 },
 "nbformat": 4,
 "nbformat_minor": 5
}
